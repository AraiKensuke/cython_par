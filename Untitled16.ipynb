{
  "nbformat": 4,
  "nbformat_minor": 0,
  "metadata": {
    "colab": {
      "name": "Untitled16.ipynb",
      "provenance": [],
      "authorship_tag": "ABX9TyO3ngCx7Uo1Is392D+DWVeM",
      "include_colab_link": true
    },
    "kernelspec": {
      "name": "python3",
      "display_name": "Python 3"
    }
  },
  "cells": [
    {
      "cell_type": "markdown",
      "metadata": {
        "id": "view-in-github",
        "colab_type": "text"
      },
      "source": [
        "<a href=\"https://colab.research.google.com/github/AraiKensuke/cython_par/blob/master/Untitled16.ipynb\" target=\"_parent\"><img src=\"https://colab.research.google.com/assets/colab-badge.svg\" alt=\"Open In Colab\"/></a>"
      ]
    },
    {
      "cell_type": "code",
      "metadata": {
        "colab": {
          "base_uri": "https://localhost:8080/"
        },
        "id": "iLq7ylrAhPsk",
        "outputId": "9da5b642-9086-4965-d093-9a19446326d8"
      },
      "source": [
        "import sys\n",
        "import importlib\n",
        "\n",
        "if importlib.util.find_spec(\"cython_par\") is None:\n",
        "  !git clone https://github.com/AraiKensuke/cython_par.git\n",
        "  %cd /content/cython_par\n",
        "   ###  pyPG is written in C++/python, and uses the C library GNU Scientific Library.   \n",
        "  !python setup.py build_ext --inplace\n",
        "  !python setup_no.py build_ext --inplace"
      ],
      "execution_count": 1,
      "outputs": [
        {
          "output_type": "stream",
          "text": [
            "Cloning into 'cython_par'...\n",
            "remote: Enumerating objects: 9, done.\u001b[K\n",
            "remote: Counting objects: 100% (9/9), done.\u001b[K\n",
            "remote: Compressing objects: 100% (5/5), done.\u001b[K\n",
            "remote: Total 9 (delta 3), reused 9 (delta 3), pack-reused 0\u001b[K\n",
            "Unpacking objects: 100% (9/9), done.\n",
            "/content/cython_par\n",
            "running build_ext\n",
            "cythoning do_omp.pyx to do_omp.c\n",
            "/usr/local/lib/python3.6/dist-packages/Cython/Compiler/Main.py:369: FutureWarning: Cython directive 'language_level' not set, using 2 for now (Py2). This will change in a later release! File: /content/cython_par/do_omp.pyx\n",
            "  tree = Parsing.p_module(s, pxd, full_module_name)\n",
            "building 'do_omp' extension\n",
            "creating build\n",
            "creating build/temp.linux-x86_64-3.6\n",
            "/usr/local/bin/gcc-6 -DNDEBUG -g -fwrapv -O2 -Wall -g -fstack-protector-strong -Wformat -Werror=format-security -Wdate-time -D_FORTIFY_SOURCE=2 -fPIC -I/usr/include/python3.6m -I/usr/local/lib/python3.6/dist-packages/numpy/core/include -IpyPG/include/RNG -I/usr/include/python3.6m -c do_omp.c -o build/temp.linux-x86_64-3.6/do_omp.o -fopenmp -DUSE_OPEN_MP\n",
            "unable to execute '/usr/local/bin/gcc-6': No such file or directory\n",
            "error: command '/usr/local/bin/gcc-6' failed with exit status 1\n",
            "running build_ext\n",
            "cythoning no_omp.pyx to no_omp.c\n",
            "/usr/local/lib/python3.6/dist-packages/Cython/Compiler/Main.py:369: FutureWarning: Cython directive 'language_level' not set, using 2 for now (Py2). This will change in a later release! File: /content/cython_par/no_omp.pyx\n",
            "  tree = Parsing.p_module(s, pxd, full_module_name)\n",
            "building 'no_omp' extension\n",
            "/usr/bin/gcc -DNDEBUG -g -fwrapv -O2 -Wall -g -fstack-protector-strong -Wformat -Werror=format-security -Wdate-time -D_FORTIFY_SOURCE=2 -fPIC -I/usr/include/python3.6m -I/usr/local/lib/python3.6/dist-packages/numpy/core/include -IpyPG/include/RNG -I/usr/include/python3.6m -c no_omp.c -o build/temp.linux-x86_64-3.6/no_omp.o\n",
            "x86_64-linux-gnu-gcc -pthread -shared -Wl,-O1 -Wl,-Bsymbolic-functions -Wl,-Bsymbolic-functions -Wl,-z,relro -Wl,-Bsymbolic-functions -Wl,-z,relro -g -fstack-protector-strong -Wformat -Werror=format-security -Wdate-time -D_FORTIFY_SOURCE=2 build/temp.linux-x86_64-3.6/no_omp.o -L/usr/local/lib -o /content/cython_par/no_omp.cpython-36m-x86_64-linux-gnu.so\n"
          ],
          "name": "stdout"
        }
      ]
    },
    {
      "cell_type": "code",
      "metadata": {
        "id": "OGHLqEqghdAg"
      },
      "source": [
        ""
      ],
      "execution_count": null,
      "outputs": []
    }
  ]
}